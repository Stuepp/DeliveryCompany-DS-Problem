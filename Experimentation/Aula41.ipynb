{
 "cells": [
  {
   "cell_type": "markdown",
   "id": "abe5ad81-b0bf-423e-8f9b-004d5eec7fbe",
   "metadata": {},
   "source": [
    "# Importing Libs"
   ]
  },
  {
   "cell_type": "code",
   "execution_count": 7,
   "id": "df601b21-09d6-462e-8fc5-c1c514107e0c",
   "metadata": {},
   "outputs": [],
   "source": [
    "import pandas as pd\n",
    "import plotly.express as px\n",
    "from haversine import haversine"
   ]
  },
  {
   "cell_type": "markdown",
   "id": "421c8472-d55f-4953-aa92-345779eec6f8",
   "metadata": {},
   "source": [
    "# Importing Data"
   ]
  },
  {
   "cell_type": "code",
   "execution_count": 8,
   "id": "93a6ab0a-3b90-4ddf-9a1e-9f66a938a1c2",
   "metadata": {},
   "outputs": [],
   "source": [
    "df = pd.read_csv('train.csv')"
   ]
  },
  {
   "cell_type": "markdown",
   "id": "f1322461-7fda-4f8c-871b-9ccc979346c6",
   "metadata": {},
   "source": [
    "# Cleaning Data"
   ]
  },
  {
   "cell_type": "code",
   "execution_count": 9,
   "id": "c6621bd1-59cd-4fa0-8fd2-9a57388da257",
   "metadata": {},
   "outputs": [],
   "source": [
    "df1 = df.copy()\n",
    "\n",
    "# cleaning rows\n",
    "cols = df1.columns\n",
    "cols = cols.tolist()\n",
    "for c in cols:\n",
    "    rows = (df1[c] != 'NaN ')\n",
    "    df1 = df1.loc[rows, :].copy()\n",
    "\n",
    "# changing types\n",
    "df1['Delivery_person_Age'] = df1['Delivery_person_Age'].astype(int)\n",
    "df1['Delivery_person_Ratings'] = df1['Delivery_person_Ratings'].astype(float)\n",
    "df1['Order_Date'] = pd.to_datetime(df1['Order_Date'], format='%d-%m-%Y')\n",
    "df1['multiple_deliveries'] = df1['Delivery_person_Age'].astype(int)\n",
    "# Time_Orderd should be change from 'o' to time\n",
    "# Time_Order_picked should be change from 'o' to time\n",
    "\n",
    "# removing space at the end of strinf from cols Type_of_vehicle, Festival\n",
    "df1['Type_of_vehicle'] = df1['Type_of_vehicle'].str.rstrip()\n",
    "df1['Festival'] = df1['Festival'].str.rstrip()\n",
    "df1['Road_traffic_density'] = df1['Road_traffic_density'].str.rstrip()\n",
    "df1['Type_of_order'] = df1['Type_of_order'].str.rstrip()"
   ]
  },
  {
   "cell_type": "code",
   "execution_count": 10,
   "id": "6bde2d77-c5e7-4a35-8af7-0437d3dc0a95",
   "metadata": {},
   "outputs": [
    {
     "data": {
      "text/html": [
       "<div>\n",
       "<style scoped>\n",
       "    .dataframe tbody tr th:only-of-type {\n",
       "        vertical-align: middle;\n",
       "    }\n",
       "\n",
       "    .dataframe tbody tr th {\n",
       "        vertical-align: top;\n",
       "    }\n",
       "\n",
       "    .dataframe thead th {\n",
       "        text-align: right;\n",
       "    }\n",
       "</style>\n",
       "<table border=\"1\" class=\"dataframe\">\n",
       "  <thead>\n",
       "    <tr style=\"text-align: right;\">\n",
       "      <th></th>\n",
       "      <th>ID</th>\n",
       "      <th>Delivery_person_ID</th>\n",
       "      <th>Delivery_person_Age</th>\n",
       "      <th>Delivery_person_Ratings</th>\n",
       "      <th>Restaurant_latitude</th>\n",
       "      <th>Restaurant_longitude</th>\n",
       "      <th>Delivery_location_latitude</th>\n",
       "      <th>Delivery_location_longitude</th>\n",
       "      <th>Order_Date</th>\n",
       "      <th>Time_Orderd</th>\n",
       "      <th>Time_Order_picked</th>\n",
       "      <th>Weatherconditions</th>\n",
       "      <th>Road_traffic_density</th>\n",
       "      <th>Vehicle_condition</th>\n",
       "      <th>Type_of_order</th>\n",
       "      <th>Type_of_vehicle</th>\n",
       "      <th>multiple_deliveries</th>\n",
       "      <th>Festival</th>\n",
       "      <th>City</th>\n",
       "      <th>Time_taken(min)</th>\n",
       "    </tr>\n",
       "  </thead>\n",
       "  <tbody>\n",
       "    <tr>\n",
       "      <th>0</th>\n",
       "      <td>0x4607</td>\n",
       "      <td>INDORES13DEL02</td>\n",
       "      <td>37</td>\n",
       "      <td>4.9</td>\n",
       "      <td>22.745049</td>\n",
       "      <td>75.892471</td>\n",
       "      <td>22.765049</td>\n",
       "      <td>75.912471</td>\n",
       "      <td>2022-03-19</td>\n",
       "      <td>11:30:00</td>\n",
       "      <td>11:45:00</td>\n",
       "      <td>conditions Sunny</td>\n",
       "      <td>High</td>\n",
       "      <td>2</td>\n",
       "      <td>Snack</td>\n",
       "      <td>motorcycle</td>\n",
       "      <td>37</td>\n",
       "      <td>No</td>\n",
       "      <td>Urban</td>\n",
       "      <td>(min) 24</td>\n",
       "    </tr>\n",
       "    <tr>\n",
       "      <th>1</th>\n",
       "      <td>0xb379</td>\n",
       "      <td>BANGRES18DEL02</td>\n",
       "      <td>34</td>\n",
       "      <td>4.5</td>\n",
       "      <td>12.913041</td>\n",
       "      <td>77.683237</td>\n",
       "      <td>13.043041</td>\n",
       "      <td>77.813237</td>\n",
       "      <td>2022-03-25</td>\n",
       "      <td>19:45:00</td>\n",
       "      <td>19:50:00</td>\n",
       "      <td>conditions Stormy</td>\n",
       "      <td>Jam</td>\n",
       "      <td>2</td>\n",
       "      <td>Snack</td>\n",
       "      <td>scooter</td>\n",
       "      <td>34</td>\n",
       "      <td>No</td>\n",
       "      <td>Metropolitian</td>\n",
       "      <td>(min) 33</td>\n",
       "    </tr>\n",
       "    <tr>\n",
       "      <th>2</th>\n",
       "      <td>0x5d6d</td>\n",
       "      <td>BANGRES19DEL01</td>\n",
       "      <td>23</td>\n",
       "      <td>4.4</td>\n",
       "      <td>12.914264</td>\n",
       "      <td>77.678400</td>\n",
       "      <td>12.924264</td>\n",
       "      <td>77.688400</td>\n",
       "      <td>2022-03-19</td>\n",
       "      <td>08:30:00</td>\n",
       "      <td>08:45:00</td>\n",
       "      <td>conditions Sandstorms</td>\n",
       "      <td>Low</td>\n",
       "      <td>0</td>\n",
       "      <td>Drinks</td>\n",
       "      <td>motorcycle</td>\n",
       "      <td>23</td>\n",
       "      <td>No</td>\n",
       "      <td>Urban</td>\n",
       "      <td>(min) 26</td>\n",
       "    </tr>\n",
       "    <tr>\n",
       "      <th>3</th>\n",
       "      <td>0x7a6a</td>\n",
       "      <td>COIMBRES13DEL02</td>\n",
       "      <td>38</td>\n",
       "      <td>4.7</td>\n",
       "      <td>11.003669</td>\n",
       "      <td>76.976494</td>\n",
       "      <td>11.053669</td>\n",
       "      <td>77.026494</td>\n",
       "      <td>2022-04-05</td>\n",
       "      <td>18:00:00</td>\n",
       "      <td>18:10:00</td>\n",
       "      <td>conditions Sunny</td>\n",
       "      <td>Medium</td>\n",
       "      <td>0</td>\n",
       "      <td>Buffet</td>\n",
       "      <td>motorcycle</td>\n",
       "      <td>38</td>\n",
       "      <td>No</td>\n",
       "      <td>Metropolitian</td>\n",
       "      <td>(min) 21</td>\n",
       "    </tr>\n",
       "    <tr>\n",
       "      <th>4</th>\n",
       "      <td>0x70a2</td>\n",
       "      <td>CHENRES12DEL01</td>\n",
       "      <td>32</td>\n",
       "      <td>4.6</td>\n",
       "      <td>12.972793</td>\n",
       "      <td>80.249982</td>\n",
       "      <td>13.012793</td>\n",
       "      <td>80.289982</td>\n",
       "      <td>2022-03-26</td>\n",
       "      <td>13:30:00</td>\n",
       "      <td>13:45:00</td>\n",
       "      <td>conditions Cloudy</td>\n",
       "      <td>High</td>\n",
       "      <td>1</td>\n",
       "      <td>Snack</td>\n",
       "      <td>scooter</td>\n",
       "      <td>32</td>\n",
       "      <td>No</td>\n",
       "      <td>Metropolitian</td>\n",
       "      <td>(min) 30</td>\n",
       "    </tr>\n",
       "  </tbody>\n",
       "</table>\n",
       "</div>"
      ],
      "text/plain": [
       "        ID Delivery_person_ID  Delivery_person_Age  Delivery_person_Ratings  \\\n",
       "0  0x4607     INDORES13DEL02                    37                      4.9   \n",
       "1  0xb379     BANGRES18DEL02                    34                      4.5   \n",
       "2  0x5d6d     BANGRES19DEL01                    23                      4.4   \n",
       "3  0x7a6a    COIMBRES13DEL02                    38                      4.7   \n",
       "4  0x70a2     CHENRES12DEL01                    32                      4.6   \n",
       "\n",
       "   Restaurant_latitude  Restaurant_longitude  Delivery_location_latitude  \\\n",
       "0            22.745049             75.892471                   22.765049   \n",
       "1            12.913041             77.683237                   13.043041   \n",
       "2            12.914264             77.678400                   12.924264   \n",
       "3            11.003669             76.976494                   11.053669   \n",
       "4            12.972793             80.249982                   13.012793   \n",
       "\n",
       "   Delivery_location_longitude Order_Date Time_Orderd Time_Order_picked  \\\n",
       "0                    75.912471 2022-03-19    11:30:00          11:45:00   \n",
       "1                    77.813237 2022-03-25    19:45:00          19:50:00   \n",
       "2                    77.688400 2022-03-19    08:30:00          08:45:00   \n",
       "3                    77.026494 2022-04-05    18:00:00          18:10:00   \n",
       "4                    80.289982 2022-03-26    13:30:00          13:45:00   \n",
       "\n",
       "       Weatherconditions Road_traffic_density  Vehicle_condition  \\\n",
       "0       conditions Sunny                 High                  2   \n",
       "1      conditions Stormy                  Jam                  2   \n",
       "2  conditions Sandstorms                  Low                  0   \n",
       "3       conditions Sunny               Medium                  0   \n",
       "4      conditions Cloudy                 High                  1   \n",
       "\n",
       "  Type_of_order Type_of_vehicle  multiple_deliveries Festival            City  \\\n",
       "0         Snack      motorcycle                   37       No          Urban    \n",
       "1         Snack         scooter                   34       No  Metropolitian    \n",
       "2        Drinks      motorcycle                   23       No          Urban    \n",
       "3        Buffet      motorcycle                   38       No  Metropolitian    \n",
       "4         Snack         scooter                   32       No  Metropolitian    \n",
       "\n",
       "  Time_taken(min)  \n",
       "0        (min) 24  \n",
       "1        (min) 33  \n",
       "2        (min) 26  \n",
       "3        (min) 21  \n",
       "4        (min) 30  "
      ]
     },
     "execution_count": 10,
     "metadata": {},
     "output_type": "execute_result"
    }
   ],
   "source": [
    "df1.head()"
   ]
  },
  {
   "cell_type": "markdown",
   "id": "67830539-b428-45ed-b00c-f61b77db416e",
   "metadata": {},
   "source": [
    "# Visões"
   ]
  },
  {
   "cell_type": "markdown",
   "id": "d107e3c6-d19a-41d2-b644-81979b087338",
   "metadata": {},
   "source": [
    "# Visão da Empresa"
   ]
  },
  {
   "cell_type": "markdown",
   "id": "3f6ffa26-244f-438f-abf3-d81d6c70bf93",
   "metadata": {},
   "source": [
    "## 1. Quantidade de pedidos por dia"
   ]
  },
  {
   "cell_type": "code",
   "execution_count": 15,
   "id": "d56cf175-edaf-49ed-b1bc-4c1e50a6f090",
   "metadata": {},
   "outputs": [
    {
     "data": {
      "application/vnd.plotly.v1+json": {
       "config": {
        "plotlyServerURL": "https://plot.ly"
       },
       "data": [
        {
         "hovertemplate": "Order_Date=%{x}<br>ID=%{y}<extra></extra>",
         "legendgroup": "",
         "marker": {
          "color": "#636efa",
          "pattern": {
           "shape": ""
          }
         },
         "name": "",
         "orientation": "v",
         "showlegend": false,
         "textposition": "auto",
         "type": "bar",
         "x": [
          "2022-02-11T00:00:00.000000000",
          "2022-02-12T00:00:00.000000000",
          "2022-02-13T00:00:00.000000000",
          "2022-02-14T00:00:00.000000000",
          "2022-02-15T00:00:00.000000000",
          "2022-02-16T00:00:00.000000000",
          "2022-02-17T00:00:00.000000000",
          "2022-02-18T00:00:00.000000000",
          "2022-03-01T00:00:00.000000000",
          "2022-03-02T00:00:00.000000000",
          "2022-03-03T00:00:00.000000000",
          "2022-03-04T00:00:00.000000000",
          "2022-03-05T00:00:00.000000000",
          "2022-03-06T00:00:00.000000000",
          "2022-03-07T00:00:00.000000000",
          "2022-03-08T00:00:00.000000000",
          "2022-03-09T00:00:00.000000000",
          "2022-03-10T00:00:00.000000000",
          "2022-03-11T00:00:00.000000000",
          "2022-03-12T00:00:00.000000000",
          "2022-03-13T00:00:00.000000000",
          "2022-03-14T00:00:00.000000000",
          "2022-03-15T00:00:00.000000000",
          "2022-03-16T00:00:00.000000000",
          "2022-03-17T00:00:00.000000000",
          "2022-03-18T00:00:00.000000000",
          "2022-03-19T00:00:00.000000000",
          "2022-03-20T00:00:00.000000000",
          "2022-03-21T00:00:00.000000000",
          "2022-03-23T00:00:00.000000000",
          "2022-03-24T00:00:00.000000000",
          "2022-03-25T00:00:00.000000000",
          "2022-03-26T00:00:00.000000000",
          "2022-03-27T00:00:00.000000000",
          "2022-03-28T00:00:00.000000000",
          "2022-03-29T00:00:00.000000000",
          "2022-03-30T00:00:00.000000000",
          "2022-03-31T00:00:00.000000000",
          "2022-04-01T00:00:00.000000000",
          "2022-04-02T00:00:00.000000000",
          "2022-04-03T00:00:00.000000000",
          "2022-04-04T00:00:00.000000000",
          "2022-04-05T00:00:00.000000000",
          "2022-04-06T00:00:00.000000000"
         ],
         "xaxis": "x",
         "y": {
          "bdata": "fwMUA1sDDgNTAxIDTwMJAwIEnQMjBIMDDgSPAw0EeAMgBI0D/ANvAxQEcAMsBJQD9QN3AwwEiAMTBHwDCwR4AxQEcwMEBIYD+gN4AwoEiAMhBFoDEQRpAw==",
          "dtype": "i2"
         },
         "yaxis": "y"
        }
       ],
       "layout": {
        "barmode": "relative",
        "legend": {
         "tracegroupgap": 0
        },
        "margin": {
         "t": 60
        },
        "template": {
         "data": {
          "bar": [
           {
            "error_x": {
             "color": "#2a3f5f"
            },
            "error_y": {
             "color": "#2a3f5f"
            },
            "marker": {
             "line": {
              "color": "#E5ECF6",
              "width": 0.5
             },
             "pattern": {
              "fillmode": "overlay",
              "size": 10,
              "solidity": 0.2
             }
            },
            "type": "bar"
           }
          ],
          "barpolar": [
           {
            "marker": {
             "line": {
              "color": "#E5ECF6",
              "width": 0.5
             },
             "pattern": {
              "fillmode": "overlay",
              "size": 10,
              "solidity": 0.2
             }
            },
            "type": "barpolar"
           }
          ],
          "carpet": [
           {
            "aaxis": {
             "endlinecolor": "#2a3f5f",
             "gridcolor": "white",
             "linecolor": "white",
             "minorgridcolor": "white",
             "startlinecolor": "#2a3f5f"
            },
            "baxis": {
             "endlinecolor": "#2a3f5f",
             "gridcolor": "white",
             "linecolor": "white",
             "minorgridcolor": "white",
             "startlinecolor": "#2a3f5f"
            },
            "type": "carpet"
           }
          ],
          "choropleth": [
           {
            "colorbar": {
             "outlinewidth": 0,
             "ticks": ""
            },
            "type": "choropleth"
           }
          ],
          "contour": [
           {
            "colorbar": {
             "outlinewidth": 0,
             "ticks": ""
            },
            "colorscale": [
             [
              0,
              "#0d0887"
             ],
             [
              0.1111111111111111,
              "#46039f"
             ],
             [
              0.2222222222222222,
              "#7201a8"
             ],
             [
              0.3333333333333333,
              "#9c179e"
             ],
             [
              0.4444444444444444,
              "#bd3786"
             ],
             [
              0.5555555555555556,
              "#d8576b"
             ],
             [
              0.6666666666666666,
              "#ed7953"
             ],
             [
              0.7777777777777778,
              "#fb9f3a"
             ],
             [
              0.8888888888888888,
              "#fdca26"
             ],
             [
              1,
              "#f0f921"
             ]
            ],
            "type": "contour"
           }
          ],
          "contourcarpet": [
           {
            "colorbar": {
             "outlinewidth": 0,
             "ticks": ""
            },
            "type": "contourcarpet"
           }
          ],
          "heatmap": [
           {
            "colorbar": {
             "outlinewidth": 0,
             "ticks": ""
            },
            "colorscale": [
             [
              0,
              "#0d0887"
             ],
             [
              0.1111111111111111,
              "#46039f"
             ],
             [
              0.2222222222222222,
              "#7201a8"
             ],
             [
              0.3333333333333333,
              "#9c179e"
             ],
             [
              0.4444444444444444,
              "#bd3786"
             ],
             [
              0.5555555555555556,
              "#d8576b"
             ],
             [
              0.6666666666666666,
              "#ed7953"
             ],
             [
              0.7777777777777778,
              "#fb9f3a"
             ],
             [
              0.8888888888888888,
              "#fdca26"
             ],
             [
              1,
              "#f0f921"
             ]
            ],
            "type": "heatmap"
           }
          ],
          "histogram": [
           {
            "marker": {
             "pattern": {
              "fillmode": "overlay",
              "size": 10,
              "solidity": 0.2
             }
            },
            "type": "histogram"
           }
          ],
          "histogram2d": [
           {
            "colorbar": {
             "outlinewidth": 0,
             "ticks": ""
            },
            "colorscale": [
             [
              0,
              "#0d0887"
             ],
             [
              0.1111111111111111,
              "#46039f"
             ],
             [
              0.2222222222222222,
              "#7201a8"
             ],
             [
              0.3333333333333333,
              "#9c179e"
             ],
             [
              0.4444444444444444,
              "#bd3786"
             ],
             [
              0.5555555555555556,
              "#d8576b"
             ],
             [
              0.6666666666666666,
              "#ed7953"
             ],
             [
              0.7777777777777778,
              "#fb9f3a"
             ],
             [
              0.8888888888888888,
              "#fdca26"
             ],
             [
              1,
              "#f0f921"
             ]
            ],
            "type": "histogram2d"
           }
          ],
          "histogram2dcontour": [
           {
            "colorbar": {
             "outlinewidth": 0,
             "ticks": ""
            },
            "colorscale": [
             [
              0,
              "#0d0887"
             ],
             [
              0.1111111111111111,
              "#46039f"
             ],
             [
              0.2222222222222222,
              "#7201a8"
             ],
             [
              0.3333333333333333,
              "#9c179e"
             ],
             [
              0.4444444444444444,
              "#bd3786"
             ],
             [
              0.5555555555555556,
              "#d8576b"
             ],
             [
              0.6666666666666666,
              "#ed7953"
             ],
             [
              0.7777777777777778,
              "#fb9f3a"
             ],
             [
              0.8888888888888888,
              "#fdca26"
             ],
             [
              1,
              "#f0f921"
             ]
            ],
            "type": "histogram2dcontour"
           }
          ],
          "mesh3d": [
           {
            "colorbar": {
             "outlinewidth": 0,
             "ticks": ""
            },
            "type": "mesh3d"
           }
          ],
          "parcoords": [
           {
            "line": {
             "colorbar": {
              "outlinewidth": 0,
              "ticks": ""
             }
            },
            "type": "parcoords"
           }
          ],
          "pie": [
           {
            "automargin": true,
            "type": "pie"
           }
          ],
          "scatter": [
           {
            "fillpattern": {
             "fillmode": "overlay",
             "size": 10,
             "solidity": 0.2
            },
            "type": "scatter"
           }
          ],
          "scatter3d": [
           {
            "line": {
             "colorbar": {
              "outlinewidth": 0,
              "ticks": ""
             }
            },
            "marker": {
             "colorbar": {
              "outlinewidth": 0,
              "ticks": ""
             }
            },
            "type": "scatter3d"
           }
          ],
          "scattercarpet": [
           {
            "marker": {
             "colorbar": {
              "outlinewidth": 0,
              "ticks": ""
             }
            },
            "type": "scattercarpet"
           }
          ],
          "scattergeo": [
           {
            "marker": {
             "colorbar": {
              "outlinewidth": 0,
              "ticks": ""
             }
            },
            "type": "scattergeo"
           }
          ],
          "scattergl": [
           {
            "marker": {
             "colorbar": {
              "outlinewidth": 0,
              "ticks": ""
             }
            },
            "type": "scattergl"
           }
          ],
          "scattermap": [
           {
            "marker": {
             "colorbar": {
              "outlinewidth": 0,
              "ticks": ""
             }
            },
            "type": "scattermap"
           }
          ],
          "scattermapbox": [
           {
            "marker": {
             "colorbar": {
              "outlinewidth": 0,
              "ticks": ""
             }
            },
            "type": "scattermapbox"
           }
          ],
          "scatterpolar": [
           {
            "marker": {
             "colorbar": {
              "outlinewidth": 0,
              "ticks": ""
             }
            },
            "type": "scatterpolar"
           }
          ],
          "scatterpolargl": [
           {
            "marker": {
             "colorbar": {
              "outlinewidth": 0,
              "ticks": ""
             }
            },
            "type": "scatterpolargl"
           }
          ],
          "scatterternary": [
           {
            "marker": {
             "colorbar": {
              "outlinewidth": 0,
              "ticks": ""
             }
            },
            "type": "scatterternary"
           }
          ],
          "surface": [
           {
            "colorbar": {
             "outlinewidth": 0,
             "ticks": ""
            },
            "colorscale": [
             [
              0,
              "#0d0887"
             ],
             [
              0.1111111111111111,
              "#46039f"
             ],
             [
              0.2222222222222222,
              "#7201a8"
             ],
             [
              0.3333333333333333,
              "#9c179e"
             ],
             [
              0.4444444444444444,
              "#bd3786"
             ],
             [
              0.5555555555555556,
              "#d8576b"
             ],
             [
              0.6666666666666666,
              "#ed7953"
             ],
             [
              0.7777777777777778,
              "#fb9f3a"
             ],
             [
              0.8888888888888888,
              "#fdca26"
             ],
             [
              1,
              "#f0f921"
             ]
            ],
            "type": "surface"
           }
          ],
          "table": [
           {
            "cells": {
             "fill": {
              "color": "#EBF0F8"
             },
             "line": {
              "color": "white"
             }
            },
            "header": {
             "fill": {
              "color": "#C8D4E3"
             },
             "line": {
              "color": "white"
             }
            },
            "type": "table"
           }
          ]
         },
         "layout": {
          "annotationdefaults": {
           "arrowcolor": "#2a3f5f",
           "arrowhead": 0,
           "arrowwidth": 1
          },
          "autotypenumbers": "strict",
          "coloraxis": {
           "colorbar": {
            "outlinewidth": 0,
            "ticks": ""
           }
          },
          "colorscale": {
           "diverging": [
            [
             0,
             "#8e0152"
            ],
            [
             0.1,
             "#c51b7d"
            ],
            [
             0.2,
             "#de77ae"
            ],
            [
             0.3,
             "#f1b6da"
            ],
            [
             0.4,
             "#fde0ef"
            ],
            [
             0.5,
             "#f7f7f7"
            ],
            [
             0.6,
             "#e6f5d0"
            ],
            [
             0.7,
             "#b8e186"
            ],
            [
             0.8,
             "#7fbc41"
            ],
            [
             0.9,
             "#4d9221"
            ],
            [
             1,
             "#276419"
            ]
           ],
           "sequential": [
            [
             0,
             "#0d0887"
            ],
            [
             0.1111111111111111,
             "#46039f"
            ],
            [
             0.2222222222222222,
             "#7201a8"
            ],
            [
             0.3333333333333333,
             "#9c179e"
            ],
            [
             0.4444444444444444,
             "#bd3786"
            ],
            [
             0.5555555555555556,
             "#d8576b"
            ],
            [
             0.6666666666666666,
             "#ed7953"
            ],
            [
             0.7777777777777778,
             "#fb9f3a"
            ],
            [
             0.8888888888888888,
             "#fdca26"
            ],
            [
             1,
             "#f0f921"
            ]
           ],
           "sequentialminus": [
            [
             0,
             "#0d0887"
            ],
            [
             0.1111111111111111,
             "#46039f"
            ],
            [
             0.2222222222222222,
             "#7201a8"
            ],
            [
             0.3333333333333333,
             "#9c179e"
            ],
            [
             0.4444444444444444,
             "#bd3786"
            ],
            [
             0.5555555555555556,
             "#d8576b"
            ],
            [
             0.6666666666666666,
             "#ed7953"
            ],
            [
             0.7777777777777778,
             "#fb9f3a"
            ],
            [
             0.8888888888888888,
             "#fdca26"
            ],
            [
             1,
             "#f0f921"
            ]
           ]
          },
          "colorway": [
           "#636efa",
           "#EF553B",
           "#00cc96",
           "#ab63fa",
           "#FFA15A",
           "#19d3f3",
           "#FF6692",
           "#B6E880",
           "#FF97FF",
           "#FECB52"
          ],
          "font": {
           "color": "#2a3f5f"
          },
          "geo": {
           "bgcolor": "white",
           "lakecolor": "white",
           "landcolor": "#E5ECF6",
           "showlakes": true,
           "showland": true,
           "subunitcolor": "white"
          },
          "hoverlabel": {
           "align": "left"
          },
          "hovermode": "closest",
          "mapbox": {
           "style": "light"
          },
          "paper_bgcolor": "white",
          "plot_bgcolor": "#E5ECF6",
          "polar": {
           "angularaxis": {
            "gridcolor": "white",
            "linecolor": "white",
            "ticks": ""
           },
           "bgcolor": "#E5ECF6",
           "radialaxis": {
            "gridcolor": "white",
            "linecolor": "white",
            "ticks": ""
           }
          },
          "scene": {
           "xaxis": {
            "backgroundcolor": "#E5ECF6",
            "gridcolor": "white",
            "gridwidth": 2,
            "linecolor": "white",
            "showbackground": true,
            "ticks": "",
            "zerolinecolor": "white"
           },
           "yaxis": {
            "backgroundcolor": "#E5ECF6",
            "gridcolor": "white",
            "gridwidth": 2,
            "linecolor": "white",
            "showbackground": true,
            "ticks": "",
            "zerolinecolor": "white"
           },
           "zaxis": {
            "backgroundcolor": "#E5ECF6",
            "gridcolor": "white",
            "gridwidth": 2,
            "linecolor": "white",
            "showbackground": true,
            "ticks": "",
            "zerolinecolor": "white"
           }
          },
          "shapedefaults": {
           "line": {
            "color": "#2a3f5f"
           }
          },
          "ternary": {
           "aaxis": {
            "gridcolor": "white",
            "linecolor": "white",
            "ticks": ""
           },
           "baxis": {
            "gridcolor": "white",
            "linecolor": "white",
            "ticks": ""
           },
           "bgcolor": "#E5ECF6",
           "caxis": {
            "gridcolor": "white",
            "linecolor": "white",
            "ticks": ""
           }
          },
          "title": {
           "x": 0.05
          },
          "xaxis": {
           "automargin": true,
           "gridcolor": "white",
           "linecolor": "white",
           "ticks": "",
           "title": {
            "standoff": 15
           },
           "zerolinecolor": "white",
           "zerolinewidth": 2
          },
          "yaxis": {
           "automargin": true,
           "gridcolor": "white",
           "linecolor": "white",
           "ticks": "",
           "title": {
            "standoff": 15
           },
           "zerolinecolor": "white",
           "zerolinewidth": 2
          }
         }
        },
        "xaxis": {
         "anchor": "y",
         "domain": [
          0,
          1
         ],
         "title": {
          "text": "Order_Date"
         }
        },
        "yaxis": {
         "anchor": "x",
         "domain": [
          0,
          1
         ],
         "title": {
          "text": "ID"
         }
        }
       }
      }
     },
     "metadata": {},
     "output_type": "display_data"
    }
   ],
   "source": [
    "cols = ['ID', 'Order_Date']\n",
    "\n",
    "df_aux = df1.loc[:, cols].groupby('Order_Date').count().reset_index()\n",
    "\n",
    "px.bar(df_aux, x='Order_Date', y='ID')"
   ]
  },
  {
   "cell_type": "markdown",
   "id": "f29b69cd-0fae-47d6-b320-f72aa19fd446",
   "metadata": {},
   "source": [
    "## 2. Quantidade de pedidos por semana."
   ]
  },
  {
   "cell_type": "code",
   "execution_count": null,
   "id": "7cb71d39-4e42-4c32-aed3-f22aa6323352",
   "metadata": {},
   "outputs": [],
   "source": []
  },
  {
   "cell_type": "markdown",
   "id": "83024405-b5d4-4ea1-960e-0109817d8ea6",
   "metadata": {},
   "source": [
    "## 3. Dsistribuição dos pedidos por tipo de tráfego."
   ]
  },
  {
   "cell_type": "code",
   "execution_count": null,
   "id": "df9b5295-dcad-4313-8628-63b406c6f5c0",
   "metadata": {},
   "outputs": [],
   "source": []
  },
  {
   "cell_type": "markdown",
   "id": "82fbb316-e86e-4ed2-af32-edef9a7e3d07",
   "metadata": {},
   "source": [
    "## 4. Comparação do volume de pedidos por cidade e tipo de tráfego."
   ]
  },
  {
   "cell_type": "code",
   "execution_count": null,
   "id": "8ad22ad0-16ab-4b23-a097-1d8a57afc327",
   "metadata": {},
   "outputs": [],
   "source": []
  },
  {
   "cell_type": "markdown",
   "id": "9fb9c544-8bf9-4b67-83d4-1761a1f4c90b",
   "metadata": {},
   "source": [
    "## 5. A quantidade de pedidos por entregador por semana."
   ]
  },
  {
   "cell_type": "code",
   "execution_count": null,
   "id": "76b5b696-d098-4007-ab72-85e52e9aeea0",
   "metadata": {},
   "outputs": [],
   "source": []
  },
  {
   "cell_type": "code",
   "execution_count": null,
   "id": "1fb662e4-d56a-4d26-a7e4-1e5ee64a8923",
   "metadata": {},
   "outputs": [],
   "source": []
  },
  {
   "cell_type": "markdown",
   "id": "5b1ee14f-1dae-44c6-88b2-f37cd9faeab0",
   "metadata": {},
   "source": [
    "# Visão dos Entregadores"
   ]
  },
  {
   "cell_type": "markdown",
   "id": "d6940c2e-b370-418b-a6b2-d39bc05a68f4",
   "metadata": {},
   "source": [
    "## 1. A menor e maior idade dos entregadores"
   ]
  },
  {
   "cell_type": "code",
   "execution_count": null,
   "id": "6e8d394b-2c49-42b8-9834-56d7e9c59c56",
   "metadata": {},
   "outputs": [],
   "source": [
    "oldest_deliverer = df1.loc[:, 'Delivery_person_Age'].max()\n",
    "youngest_deliverer = df1.loc[:, 'Delivery_person_Age'].min()\n",
    "\n",
    "print(f'A maior idade dos entregadores é: {oldest_deliverer}, enquanto a menor idade é: {youngest_deliverer}')"
   ]
  },
  {
   "cell_type": "markdown",
   "id": "cf12fff4-60ba-4c56-814b-b8d27445331b",
   "metadata": {},
   "source": [
    "## 2. A pior e a melhor condição de veículos"
   ]
  },
  {
   "cell_type": "code",
   "execution_count": null,
   "id": "739b5bea-8dff-4837-b6ba-e21d2f214f8f",
   "metadata": {},
   "outputs": [],
   "source": [
    "bst_vehicle_condition = df1.loc[:, 'Vehicle_condtion'].max()\n",
    "lowest_vehicle_condition = df1.loc[:, 'Vehicle_condition'].min()\n",
    "\n",
    "print(f'A pior condição de veículo é {lowest_vehicle_condition}, enquanto a melhor é: {best_vehicle_condition}')"
   ]
  },
  {
   "cell_type": "markdown",
   "id": "11ad4c6f-8726-4583-9827-b079a87dd770",
   "metadata": {},
   "source": [
    "## 3. A avaliação média por entregador"
   ]
  },
  {
   "cell_type": "code",
   "execution_count": null,
   "id": "da0f64fd-5b78-429a-aa7f-9c4363f84202",
   "metadata": {},
   "outputs": [],
   "source": [
    "cols = ['Delivery_person_ID', 'Delivery_person_Ratings']\n",
    "df_aux = df1.loc[:, cols].groupby('Delivery_person_ID').mean().reset_index()\n",
    "\n",
    "df_aux"
   ]
  },
  {
   "cell_type": "markdown",
   "id": "aca42390-871c-4213-9486-269f847c154f",
   "metadata": {},
   "source": [
    "## 4. A avaliação média e o desvio padrão por tipo de tráfego."
   ]
  },
  {
   "cell_type": "code",
   "execution_count": null,
   "id": "c33264d0-f395-46c1-bc8c-6161795b0b32",
   "metadata": {},
   "outputs": [],
   "source": [
    "cols = ['Road_traffic_density','Delivery_person_Ratings']\n",
    "df_ aux = df1.loc[:, cols]\n",
    "\n",
    "tabelized = df_aux.groupby('Road_traffic_density').agg({'Delivery_person_Ratings' : ['mean','std']})\n",
    "\n",
    "tabelized.columns = ['delivery_mean', 'delivery_std']\n",
    "\n",
    "tabelized.reset_index()"
   ]
  },
  {
   "cell_type": "markdown",
   "id": "b8975e2c-2de1-4313-82dc-36d1aef5ab65",
   "metadata": {},
   "source": [
    "## 5. A avaliação média e o desvio padrão por condições climáticas"
   ]
  },
  {
   "cell_type": "code",
   "execution_count": null,
   "id": "be0bf697-8293-44bd-a51f-f17593c07e5d",
   "metadata": {},
   "outputs": [],
   "source": [
    "cols = ['Watherconditions','Delivery_person_Ratings']\n",
    "df_aux = df1.loc[:, cols]\n",
    "\n",
    "tabelized = df_aux.groupby('Weatherconditions').agg({'Delivery_person_Ratings' : ['mean','std']})\n",
    "tabelized.columns = ['delivery_mean','delivery_std']\n",
    "\n",
    "tabelized.reset_index()"
   ]
  },
  {
   "cell_type": "markdown",
   "id": "73fc4d85-7901-4559-bf23-34be5c160c45",
   "metadata": {},
   "source": [
    "# 6. Os 10 entregadores mais rápidos por cidade"
   ]
  },
  {
   "cell_type": "code",
   "execution_count": null,
   "id": "e72be77c-7017-426a-8e7a-a72050e71cf5",
   "metadata": {},
   "outputs": [],
   "source": [
    "cols = ['City','Delivery_person_ID','Time_taken(min)']\n",
    "\n",
    "df_aux = df1.loc[:, cols].groupby(['City', 'Delivery_person_ID']).min().sort_values(['City','Time_taken(min)']).reset_index()\n",
    "\n",
    "cities = df1['City'].unique()\n",
    "\n",
    "df_result = pd.DataFrame()\n",
    "\n",
    "for c in cities:\n",
    "    df_aux_city = df_aux.loc[df_aux['City'] == c, :].head(10)\n",
    "    df_result = pd.concat([df_result, df_aux_city])\n",
    "\n",
    "df_result"
   ]
  },
  {
   "cell_type": "markdown",
   "id": "58e68862-5c77-4636-90a6-2d2a6525de76",
   "metadata": {},
   "source": [
    "## 7. Os 10 entregadores mais lentos por cidade"
   ]
  },
  {
   "cell_type": "code",
   "execution_count": null,
   "id": "fb442e7e-6843-41a4-a4c3-55d6f7847e0d",
   "metadata": {},
   "outputs": [],
   "source": [
    "cols = ['City', 'Delivery_person_ID', 'Time_taken(min)']\n",
    "df_aux = df1.loc[:, cols].groupby(['City', 'Delivery_person_ID']).min().sort_values(['City','Time_taken(min)']).reset_index()\n",
    "\n",
    "cities = df1['City'].unique()\n",
    "\n",
    "df_result = pd.DataFrame()\n",
    "\n",
    "for c in cities:\n",
    "    df_aux_city = df_aux.loc[df_aux['City'] == c, :].tail(10)\n",
    "    df_result = pd.concat([df_result, df_aux_city])\n",
    "\n",
    "df_result"
   ]
  },
  {
   "cell_type": "markdown",
   "id": "06e5fdf5-e4a6-43a4-b579-b3c1c2f3754b",
   "metadata": {},
   "source": [
    "# Visão dos Restaurantes"
   ]
  },
  {
   "cell_type": "markdown",
   "id": "8368a801-6c53-4c13-afb1-275ae7abfb84",
   "metadata": {},
   "source": [
    "## 1. A quantidade de entregadores únicos"
   ]
  },
  {
   "cell_type": "code",
   "execution_count": 48,
   "id": "e354e5b0-10e0-4c46-9240-b56ce48d9a6e",
   "metadata": {},
   "outputs": [
    {
     "name": "stdout",
     "output_type": "stream",
     "text": [
      "A quantidade total de entregadores é de: 1320\n"
     ]
    }
   ],
   "source": [
    "total_deliverers = len(df1.loc[:, 'Delivery_person_ID'].unique())\n",
    "\n",
    "print(f'A quantidade total de entregadores é de: {total_deliverers}')"
   ]
  },
  {
   "cell_type": "markdown",
   "id": "76d3f065-d8f2-40b1-87ca-3cbaf9ccf159",
   "metadata": {},
   "source": [
    "## 2. A distância média dos restaurantes e dos locais de entrega."
   ]
  },
  {
   "cell_type": "code",
   "execution_count": 103,
   "id": "cde2224b-3d6f-4489-aa03-9dfca5950d6e",
   "metadata": {},
   "outputs": [
    {
     "name": "stdout",
     "output_type": "stream",
     "text": [
      "A distancia média das entregas é de: 26.91 Km\n"
     ]
    }
   ],
   "source": [
    "cols = ['Restaurant_latitude','Restaurant_longitude','Delivery_location_latitude','Delivery_location_longitude']\n",
    "\n",
    "df1['distance'] = df1.loc[:, cols].apply( lambda x:\n",
    "                        haversine(\n",
    "                            (x['Restaurant_latitude'],x['Restaurant_longitude']),\n",
    "                            (x['Delivery_location_latitude'],x['Delivery_location_longitude'])\n",
    "                        ), axis=1 )\n",
    "\n",
    "avg_distance = df1['distance'].mean()\n",
    "\n",
    "print(f'A distancia média das entregas é de: {avg_distance:.2f} Km')"
   ]
  },
  {
   "cell_type": "markdown",
   "id": "ce7b5345-767e-4642-b152-cbf11daa92f2",
   "metadata": {},
   "source": [
    "## 3. O tempo médio e o desvio padrão de entrega por cidade."
   ]
  },
  {
   "cell_type": "code",
   "execution_count": 80,
   "id": "c206a30b-535d-4ef7-b201-3ca363357fac",
   "metadata": {},
   "outputs": [
    {
     "data": {
      "text/html": [
       "<div>\n",
       "<style scoped>\n",
       "    .dataframe tbody tr th:only-of-type {\n",
       "        vertical-align: middle;\n",
       "    }\n",
       "\n",
       "    .dataframe tbody tr th {\n",
       "        vertical-align: top;\n",
       "    }\n",
       "\n",
       "    .dataframe thead th {\n",
       "        text-align: right;\n",
       "    }\n",
       "</style>\n",
       "<table border=\"1\" class=\"dataframe\">\n",
       "  <thead>\n",
       "    <tr style=\"text-align: right;\">\n",
       "      <th></th>\n",
       "      <th>City</th>\n",
       "      <th>avg_time</th>\n",
       "      <th>std_time</th>\n",
       "    </tr>\n",
       "  </thead>\n",
       "  <tbody>\n",
       "    <tr>\n",
       "      <th>0</th>\n",
       "      <td>Metropolitian</td>\n",
       "      <td>27.429860</td>\n",
       "      <td>9.134286</td>\n",
       "    </tr>\n",
       "    <tr>\n",
       "      <th>1</th>\n",
       "      <td>Semi-Urban</td>\n",
       "      <td>49.710526</td>\n",
       "      <td>2.724992</td>\n",
       "    </tr>\n",
       "    <tr>\n",
       "      <th>2</th>\n",
       "      <td>Urban</td>\n",
       "      <td>23.209495</td>\n",
       "      <td>8.859189</td>\n",
       "    </tr>\n",
       "  </tbody>\n",
       "</table>\n",
       "</div>"
      ],
      "text/plain": [
       "             City   avg_time  std_time\n",
       "0  Metropolitian   27.429860  9.134286\n",
       "1     Semi-Urban   49.710526  2.724992\n",
       "2          Urban   23.209495  8.859189"
      ]
     },
     "execution_count": 80,
     "metadata": {},
     "output_type": "execute_result"
    }
   ],
   "source": [
    "cols = ['City','Time_taken(min)']\n",
    "df_aux = df1.copy()\n",
    "df_aux['Time_taken(min)'] = df['Time_taken(min)'].str.strip('(min)')\n",
    "df_aux['Time_taken(min)'] = df_aux['Time_taken(min)'].astype(int)\n",
    "\n",
    "df_aux = df_aux.loc[:,cols].groupby('City').agg(\n",
    "    {'Time_taken(min)' : ['mean','std']})\n",
    "\n",
    "df_aux.columns = ['avg_time','std_time']\n",
    "df_aux = df_aux.reset_index()\n",
    "df_aux"
   ]
  },
  {
   "cell_type": "markdown",
   "id": "9e9b35fa-845c-4a5b-9b86-3d029eb07b1b",
   "metadata": {},
   "source": [
    "## 4. O tempo médio e o desvio padrão de entrega por cidade e tipo de de pedido"
   ]
  },
  {
   "cell_type": "code",
   "execution_count": 83,
   "id": "e7734c73-3226-41c2-af48-07125fd48746",
   "metadata": {},
   "outputs": [
    {
     "data": {
      "text/html": [
       "<div>\n",
       "<style scoped>\n",
       "    .dataframe tbody tr th:only-of-type {\n",
       "        vertical-align: middle;\n",
       "    }\n",
       "\n",
       "    .dataframe tbody tr th {\n",
       "        vertical-align: top;\n",
       "    }\n",
       "\n",
       "    .dataframe thead th {\n",
       "        text-align: right;\n",
       "    }\n",
       "</style>\n",
       "<table border=\"1\" class=\"dataframe\">\n",
       "  <thead>\n",
       "    <tr style=\"text-align: right;\">\n",
       "      <th></th>\n",
       "      <th></th>\n",
       "      <th>avg_time</th>\n",
       "      <th>std_time</th>\n",
       "    </tr>\n",
       "    <tr>\n",
       "      <th>City</th>\n",
       "      <th>Type_of_order</th>\n",
       "      <th></th>\n",
       "      <th></th>\n",
       "    </tr>\n",
       "  </thead>\n",
       "  <tbody>\n",
       "    <tr>\n",
       "      <th rowspan=\"4\" valign=\"top\">Metropolitian</th>\n",
       "      <th>Buffet</th>\n",
       "      <td>27.301935</td>\n",
       "      <td>9.155644</td>\n",
       "    </tr>\n",
       "    <tr>\n",
       "      <th>Drinks</th>\n",
       "      <td>27.324962</td>\n",
       "      <td>9.041698</td>\n",
       "    </tr>\n",
       "    <tr>\n",
       "      <th>Meal</th>\n",
       "      <td>27.618877</td>\n",
       "      <td>9.215624</td>\n",
       "    </tr>\n",
       "    <tr>\n",
       "      <th>Snack</th>\n",
       "      <td>27.467867</td>\n",
       "      <td>9.119682</td>\n",
       "    </tr>\n",
       "    <tr>\n",
       "      <th rowspan=\"4\" valign=\"top\">Semi-Urban</th>\n",
       "      <th>Buffet</th>\n",
       "      <td>49.707317</td>\n",
       "      <td>2.731702</td>\n",
       "    </tr>\n",
       "    <tr>\n",
       "      <th>Drinks</th>\n",
       "      <td>49.625000</td>\n",
       "      <td>2.459347</td>\n",
       "    </tr>\n",
       "    <tr>\n",
       "      <th>Meal</th>\n",
       "      <td>50.300000</td>\n",
       "      <td>3.041665</td>\n",
       "    </tr>\n",
       "    <tr>\n",
       "      <th>Snack</th>\n",
       "      <td>49.408163</td>\n",
       "      <td>2.707385</td>\n",
       "    </tr>\n",
       "    <tr>\n",
       "      <th rowspan=\"4\" valign=\"top\">Urban</th>\n",
       "      <th>Buffet</th>\n",
       "      <td>23.566337</td>\n",
       "      <td>9.060933</td>\n",
       "    </tr>\n",
       "    <tr>\n",
       "      <th>Drinks</th>\n",
       "      <td>23.308885</td>\n",
       "      <td>8.925721</td>\n",
       "    </tr>\n",
       "    <tr>\n",
       "      <th>Meal</th>\n",
       "      <td>23.039012</td>\n",
       "      <td>8.769786</td>\n",
       "    </tr>\n",
       "    <tr>\n",
       "      <th>Snack</th>\n",
       "      <td>22.924958</td>\n",
       "      <td>8.667937</td>\n",
       "    </tr>\n",
       "  </tbody>\n",
       "</table>\n",
       "</div>"
      ],
      "text/plain": [
       "                               avg_time  std_time\n",
       "City           Type_of_order                     \n",
       "Metropolitian  Buffet         27.301935  9.155644\n",
       "               Drinks         27.324962  9.041698\n",
       "               Meal           27.618877  9.215624\n",
       "               Snack          27.467867  9.119682\n",
       "Semi-Urban     Buffet         49.707317  2.731702\n",
       "               Drinks         49.625000  2.459347\n",
       "               Meal           50.300000  3.041665\n",
       "               Snack          49.408163  2.707385\n",
       "Urban          Buffet         23.566337  9.060933\n",
       "               Drinks         23.308885  8.925721\n",
       "               Meal           23.039012  8.769786\n",
       "               Snack          22.924958  8.667937"
      ]
     },
     "execution_count": 83,
     "metadata": {},
     "output_type": "execute_result"
    }
   ],
   "source": [
    "cols = ['City', 'Time_taken(min)','Type_of_order']\n",
    "df_aux = df1.copy()\n",
    "df_aux['Time_taken(min)'] = df['Time_taken(min)'].str.strip('(min)')\n",
    "df_aux['Time_taken(min)'] = df_aux['Time_taken(min)'].astype(int)\n",
    "\n",
    "df_aux = df_aux.loc[:, cols].groupby(['City', 'Type_of_order']).agg(\n",
    "    {'Time_taken(min)' : ['mean','std']}\n",
    ")\n",
    "\n",
    "df_aux.columns = ['avg_time','std_time']\n",
    "df_aux.reset_index()\n",
    "df_aux"
   ]
  },
  {
   "cell_type": "markdown",
   "id": "5a9750a5-287a-4229-afe9-eb730ce53bfa",
   "metadata": {},
   "source": [
    "## 5. O tempo médio e o desvio padrão de entrega por cidade e tipo de tráfego."
   ]
  },
  {
   "cell_type": "code",
   "execution_count": 84,
   "id": "02989756-2a83-47d1-9ec1-ff7c39189526",
   "metadata": {},
   "outputs": [
    {
     "data": {
      "text/html": [
       "<div>\n",
       "<style scoped>\n",
       "    .dataframe tbody tr th:only-of-type {\n",
       "        vertical-align: middle;\n",
       "    }\n",
       "\n",
       "    .dataframe tbody tr th {\n",
       "        vertical-align: top;\n",
       "    }\n",
       "\n",
       "    .dataframe thead th {\n",
       "        text-align: right;\n",
       "    }\n",
       "</style>\n",
       "<table border=\"1\" class=\"dataframe\">\n",
       "  <thead>\n",
       "    <tr style=\"text-align: right;\">\n",
       "      <th></th>\n",
       "      <th></th>\n",
       "      <th>avg_time</th>\n",
       "      <th>std_time</th>\n",
       "    </tr>\n",
       "    <tr>\n",
       "      <th>City</th>\n",
       "      <th>Road_traffic_density</th>\n",
       "      <th></th>\n",
       "      <th></th>\n",
       "    </tr>\n",
       "  </thead>\n",
       "  <tbody>\n",
       "    <tr>\n",
       "      <th rowspan=\"4\" valign=\"top\">Metropolitian</th>\n",
       "      <th>High</th>\n",
       "      <td>28.145976</td>\n",
       "      <td>7.904494</td>\n",
       "    </tr>\n",
       "    <tr>\n",
       "      <th>Jam</th>\n",
       "      <td>31.978193</td>\n",
       "      <td>9.477798</td>\n",
       "    </tr>\n",
       "    <tr>\n",
       "      <th>Low</th>\n",
       "      <td>22.259874</td>\n",
       "      <td>6.795802</td>\n",
       "    </tr>\n",
       "    <tr>\n",
       "      <th>Medium</th>\n",
       "      <td>27.728045</td>\n",
       "      <td>8.309769</td>\n",
       "    </tr>\n",
       "    <tr>\n",
       "      <th rowspan=\"3\" valign=\"top\">Semi-Urban</th>\n",
       "      <th>High</th>\n",
       "      <td>50.125000</td>\n",
       "      <td>2.629956</td>\n",
       "    </tr>\n",
       "    <tr>\n",
       "      <th>Jam</th>\n",
       "      <td>49.841270</td>\n",
       "      <td>2.717095</td>\n",
       "    </tr>\n",
       "    <tr>\n",
       "      <th>Medium</th>\n",
       "      <td>47.400000</td>\n",
       "      <td>2.011080</td>\n",
       "    </tr>\n",
       "    <tr>\n",
       "      <th rowspan=\"4\" valign=\"top\">Urban</th>\n",
       "      <th>High</th>\n",
       "      <td>24.305335</td>\n",
       "      <td>8.494842</td>\n",
       "    </tr>\n",
       "    <tr>\n",
       "      <th>Jam</th>\n",
       "      <td>27.989541</td>\n",
       "      <td>10.078679</td>\n",
       "    </tr>\n",
       "    <tr>\n",
       "      <th>Low</th>\n",
       "      <td>19.445964</td>\n",
       "      <td>6.319847</td>\n",
       "    </tr>\n",
       "    <tr>\n",
       "      <th>Medium</th>\n",
       "      <td>23.867806</td>\n",
       "      <td>8.396900</td>\n",
       "    </tr>\n",
       "  </tbody>\n",
       "</table>\n",
       "</div>"
      ],
      "text/plain": [
       "                                      avg_time   std_time\n",
       "City           Road_traffic_density                      \n",
       "Metropolitian  High                  28.145976   7.904494\n",
       "               Jam                   31.978193   9.477798\n",
       "               Low                   22.259874   6.795802\n",
       "               Medium                27.728045   8.309769\n",
       "Semi-Urban     High                  50.125000   2.629956\n",
       "               Jam                   49.841270   2.717095\n",
       "               Medium                47.400000   2.011080\n",
       "Urban          High                  24.305335   8.494842\n",
       "               Jam                   27.989541  10.078679\n",
       "               Low                   19.445964   6.319847\n",
       "               Medium                23.867806   8.396900"
      ]
     },
     "execution_count": 84,
     "metadata": {},
     "output_type": "execute_result"
    }
   ],
   "source": [
    "cols = ['City', 'Time_taken(min)','Road_traffic_density']\n",
    "df_aux = df1.copy()\n",
    "df_aux['Time_taken(min)'] = df['Time_taken(min)'].str.strip('(min)')\n",
    "df_aux['Time_taken(min)'] = df_aux['Time_taken(min)'].astype(int)\n",
    "\n",
    "df_aux = df_aux.loc[:, cols].groupby(['City', 'Road_traffic_density']).agg(\n",
    "    {'Time_taken(min)' : ['mean','std']}\n",
    ")\n",
    "\n",
    "df_aux.columns = ['avg_time','std_time']\n",
    "df_aux.reset_index()\n",
    "df_aux"
   ]
  },
  {
   "cell_type": "markdown",
   "id": "8444d6ee-82b1-428a-bcd2-d952ff2b4f6e",
   "metadata": {},
   "source": [
    "## 6. O tempo médio de entrega durantes os Festivais."
   ]
  },
  {
   "cell_type": "code",
   "execution_count": 98,
   "id": "50be3342-cb5c-4bc7-9387-73626c24934e",
   "metadata": {},
   "outputs": [
    {
     "data": {
      "text/html": [
       "<div>\n",
       "<style scoped>\n",
       "    .dataframe tbody tr th:only-of-type {\n",
       "        vertical-align: middle;\n",
       "    }\n",
       "\n",
       "    .dataframe tbody tr th {\n",
       "        vertical-align: top;\n",
       "    }\n",
       "\n",
       "    .dataframe thead th {\n",
       "        text-align: right;\n",
       "    }\n",
       "</style>\n",
       "<table border=\"1\" class=\"dataframe\">\n",
       "  <thead>\n",
       "    <tr style=\"text-align: right;\">\n",
       "      <th></th>\n",
       "      <th>avg_time</th>\n",
       "      <th>std_time</th>\n",
       "    </tr>\n",
       "    <tr>\n",
       "      <th>Festival</th>\n",
       "      <th></th>\n",
       "      <th></th>\n",
       "    </tr>\n",
       "  </thead>\n",
       "  <tbody>\n",
       "    <tr>\n",
       "      <th>No</th>\n",
       "      <td>26.163612</td>\n",
       "      <td>9.002668</td>\n",
       "    </tr>\n",
       "    <tr>\n",
       "      <th>Yes</th>\n",
       "      <td>45.518607</td>\n",
       "      <td>4.005399</td>\n",
       "    </tr>\n",
       "  </tbody>\n",
       "</table>\n",
       "</div>"
      ],
      "text/plain": [
       "           avg_time  std_time\n",
       "Festival                     \n",
       "No        26.163612  9.002668\n",
       "Yes       45.518607  4.005399"
      ]
     },
     "execution_count": 98,
     "metadata": {},
     "output_type": "execute_result"
    }
   ],
   "source": [
    "#rows = (df1['Festival'] == 'Yes')\n",
    "cols = ['Festival','Time_taken(min)']\n",
    "\n",
    "df_aux = df1.copy()\n",
    "df_aux['Time_taken(min)'] = df['Time_taken(min)'].str.strip('(min)')\n",
    "df_aux['Time_taken(min)'] = df_aux['Time_taken(min)'].astype(int)\n",
    "\n",
    "df_aux = df_aux.loc[:, cols].groupby('Festival').agg(\n",
    "    {'Time_taken(min)': ['mean','std']})\n",
    "\n",
    "df_aux.columns = ['avg_time','std_time']\n",
    "df_aux.reset_index()\n",
    "df_aux"
   ]
  }
 ],
 "metadata": {
  "kernelspec": {
   "display_name": "Python 3 (ipykernel)",
   "language": "python",
   "name": "python3"
  },
  "language_info": {
   "codemirror_mode": {
    "name": "ipython",
    "version": 3
   },
   "file_extension": ".py",
   "mimetype": "text/x-python",
   "name": "python",
   "nbconvert_exporter": "python",
   "pygments_lexer": "ipython3",
   "version": "3.13.2"
  }
 },
 "nbformat": 4,
 "nbformat_minor": 5
}
